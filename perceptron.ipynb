{
 "cells": [
  {
   "cell_type": "markdown",
   "metadata": {},
   "source": [
    "## Perceptron\n",
    "### **m** input features and **n** output results"
   ]
  },
  {
   "cell_type": "markdown",
   "metadata": {},
   "source": [
    "Import modules"
   ]
  },
  {
   "cell_type": "code",
   "execution_count": 1,
   "metadata": {},
   "outputs": [],
   "source": [
    "import numpy as np\n",
    "from perceptron import Perceptron"
   ]
  },
  {
   "cell_type": "markdown",
   "metadata": {},
   "source": [
    "Define training set #1"
   ]
  },
  {
   "cell_type": "code",
   "execution_count": 2,
   "metadata": {},
   "outputs": [],
   "source": [
    "training_set = [\n",
    "    ([0.0, 1.0, 1.0], [0.0, 0.0]),\n",
    "    ([1.0, 0.0, 0.0], [1.0, 1.0]),\n",
    "    ([0.5, 0.5, 0.5], [1.0, 1.0])\n",
    "]"
   ]
  },
  {
   "cell_type": "markdown",
   "metadata": {},
   "source": [
    "Define training set #2\n",
    "* Feature 1: sweatnest of the wine\n",
    "* Feature 2: acidity of the wine\n",
    "* Feature 3: power of wine\n",
    "\n",
    "Result: 1 good 0 not good"
   ]
  },
  {
   "cell_type": "code",
   "execution_count": 5,
   "metadata": {},
   "outputs": [],
   "source": [
    "training_set = [\n",
    "    ([0.0, 1.0, 1.0], [0.0]),\n",
    "    ([1.0, 0.0, 0.0], [1.0]),\n",
    "    ([0.5, 0.5, 0.5], [1.0])\n",
    "]"
   ]
  },
  {
   "cell_type": "markdown",
   "metadata": {},
   "source": [
    "Perceptron learning\n"
   ]
  },
  {
   "cell_type": "code",
   "execution_count": 6,
   "metadata": {},
   "outputs": [
    {
     "name": "stdout",
     "output_type": "stream",
     "text": [
      "Initial weights: \n",
      " [[-0.52852723 -0.63987543 -0.16173434 -0.44827392]]\n",
      "Learnt weights: \n",
      " [[-0.82852723 -0.18987543 -0.31173434 -0.59827392]]\n"
     ]
    }
   ],
   "source": [
    "perceptron = Perceptron(training_set)\n",
    "print(\"Initial weights: \\n\", perceptron.weights)\n",
    "perceptron.learning()\n",
    "print(\"Learnt weights: \\n\", perceptron.weights)\n"
   ]
  },
  {
   "cell_type": "markdown",
   "metadata": {},
   "source": [
    "Define input vector and run perceptron"
   ]
  },
  {
   "cell_type": "code",
   "execution_count": 7,
   "metadata": {},
   "outputs": [
    {
     "name": "stdout",
     "output_type": "stream",
     "text": [
      "Output for  [1.0, 0.0, 0.0]  is  [1]\n"
     ]
    }
   ],
   "source": [
    "net_input = [1.0, 0.0, 0.0]\n",
    "output = perceptron.run([net_input])\n",
    "print(\"Output for \", net_input, \" is \", output)"
   ]
  }
 ],
 "metadata": {
  "kernelspec": {
   "display_name": "Python 3",
   "language": "python",
   "name": "python3"
  },
  "language_info": {
   "codemirror_mode": {
    "name": "ipython",
    "version": 3
   },
   "file_extension": ".py",
   "mimetype": "text/x-python",
   "name": "python",
   "nbconvert_exporter": "python",
   "pygments_lexer": "ipython3",
   "version": "3.12.0"
  }
 },
 "nbformat": 4,
 "nbformat_minor": 2
}
