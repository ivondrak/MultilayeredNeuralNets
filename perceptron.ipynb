{
 "cells": [
  {
   "cell_type": "markdown",
   "metadata": {},
   "source": [
    "## Perceptron\n",
    "### **m** input features and **n** output results"
   ]
  },
  {
   "cell_type": "markdown",
   "metadata": {},
   "source": [
    "### Import modules"
   ]
  },
  {
   "cell_type": "code",
   "execution_count": 1,
   "metadata": {
    "ExecuteTime": {
     "end_time": "2024-03-02T13:19:08.081866Z",
     "start_time": "2024-03-02T13:19:08.068598Z"
    }
   },
   "outputs": [],
   "source": [
    "import numpy as np\n",
    "import pandas as pd\n",
    "from perceptron import Perceptron"
   ]
  },
  {
   "cell_type": "markdown",
   "metadata": {},
   "source": [
    "### Define training set #1"
   ]
  },
  {
   "cell_type": "code",
   "execution_count": 2,
   "metadata": {},
   "outputs": [],
   "source": [
    "training_set = [\n",
    "    ([0.0, 1.0, 1.0], [0.0, 0.0]),\n",
    "    ([1.0, 0.0, 0.0], [1.0, 1.0]),\n",
    "    ([0.5, 0.5, 0.5], [1.0, 1.0])\n",
    "]"
   ]
  },
  {
   "cell_type": "markdown",
   "metadata": {},
   "source": [
    "### Define training set #2\n",
    "* Feature 1: sweetness of the wine\n",
    "* Feature 2: acidity of the wine\n",
    "* Feature 3: power of wine\n",
    "\n",
    "Result: 1 good 0 not good"
   ]
  },
  {
   "cell_type": "code",
   "execution_count": 2,
   "metadata": {},
   "outputs": [],
   "source": [
    "training_set = [\n",
    "    ([0.0, 1.0, 1.0], [0.0]),\n",
    "    ([1.0, 0.0, 0.0], [1.0]),\n",
    "    ([0.5, 0.5, 0.5], [1.0])\n",
    "]"
   ]
  },
  {
   "cell_type": "markdown",
   "metadata": {},
   "source": [
    "### Perceptron learning\n"
   ]
  },
  {
   "cell_type": "code",
   "execution_count": 3,
   "metadata": {},
   "outputs": [
    {
     "name": "stdout",
     "output_type": "stream",
     "text": [
      "Initial weights: \n",
      " [[ 0.06998944 -2.74489859 -0.08899375  0.36449898]]\n",
      "Learnt weights: \n",
      " [[-1.13001056 -0.64489859 -0.98899375 -0.53550102]]\n"
     ]
    }
   ],
   "source": [
    "perceptron = Perceptron(training_set)\n",
    "print(\"Initial weights: \\n\", perceptron.weights)\n",
    "perceptron.learning()\n",
    "print(\"Learnt weights: \\n\", perceptron.weights)\n"
   ]
  },
  {
   "cell_type": "markdown",
   "metadata": {},
   "source": [
    "### Define input vector and run perceptron"
   ]
  },
  {
   "cell_type": "code",
   "execution_count": 7,
   "metadata": {},
   "outputs": [
    {
     "name": "stdout",
     "output_type": "stream",
     "text": [
      "Output for  [1.0, 0.0, 0.0]  is  [1]\n"
     ]
    }
   ],
   "source": [
    "net_input = [1.0, 0.0, 0.0]\n",
    "output = perceptron.run([net_input])\n",
    "print(\"Output for \", net_input, \" is \", output)"
   ]
  },
  {
   "cell_type": "markdown",
   "metadata": {},
   "source": [
    "### Save weight matrix on the disk"
   ]
  },
  {
   "cell_type": "code",
   "execution_count": 5,
   "metadata": {},
   "outputs": [],
   "source": [
    "np.save('weight_matrix', perceptron.weights)"
   ]
  },
  {
   "cell_type": "markdown",
   "metadata": {},
   "source": [
    "### Create new perceptron net a set its weights from disk"
   ]
  },
  {
   "cell_type": "code",
   "execution_count": 6,
   "metadata": {},
   "outputs": [
    {
     "name": "stdout",
     "output_type": "stream",
     "text": [
      "Initial weights: \n",
      " [[ 1.14791268 -0.8789867  -0.67030694  0.93702913]]\n",
      "Learnt weights: \n",
      " [[-1.13001056 -0.64489859 -0.98899375 -0.53550102]]\n"
     ]
    }
   ],
   "source": [
    "perceptron = Perceptron(training_set)\n",
    "print(\"Initial weights: \\n\", perceptron.weights)\n",
    "perceptron.weights = np.load('weight_matrix.npy')\n",
    "print(\"Learnt weights: \\n\", perceptron.weights)"
   ]
  },
  {
   "cell_type": "markdown",
   "metadata": {},
   "source": [
    "### Using Excel Table to define training set"
   ]
  },
  {
   "cell_type": "markdown",
   "metadata": {},
   "source": [
    "### Wines Excel file"
   ]
  },
  {
   "cell_type": "code",
   "execution_count": 21,
   "metadata": {},
   "outputs": [
    {
     "data": {
      "text/plain": [
       "[([0.0, 1.0, 1.0], [0.0]), ([1.0, 0.0, 0.0], [1.0]), ([0.5, 0.5, 0.5], [1.0])]"
      ]
     },
     "execution_count": 21,
     "metadata": {},
     "output_type": "execute_result"
    }
   ],
   "source": [
    "data = pd.read_excel('wines.xlsx')\n",
    "data.head()\n",
    "training_set = []\n",
    "for index, row in data.iterrows():\n",
    "    features = [row['Sweetness'], row['Acidity'], row['Power']]\n",
    "    result = [row['Good']]\n",
    "    training_set.append((features, result))\n",
    "#print(\"Transformations: \", training_set)\n",
    "training_set\n",
    "\n"
   ]
  },
  {
   "cell_type": "markdown",
   "metadata": {},
   "source": [
    "### Diagnosis learning verification"
   ]
  },
  {
   "cell_type": "code",
   "execution_count": 2,
   "metadata": {
    "ExecuteTime": {
     "end_time": "2024-03-02T13:18:24.684345Z",
     "start_time": "2024-03-02T13:18:24.513490Z"
    }
   },
   "outputs": [
    {
     "name": "stdout",
     "output_type": "stream",
     "text": [
      "Input:  [0.0, 0.5, 0.5, 0.0, 0.0]  Output:  [0, 0, 1]\n",
      "Input:  [1.0, 1.0, 1.0, 1.0, 0.0]  Output:  [0, 1, 0]\n",
      "Input:  [0.5, 1.0, 0.0, 1.0, 1.0]  Output:  [1, 0, 0]\n",
      "Input:  [0.0, 0.5, 0.0, 0.0, 0.0]  Output:  [0, 0, 1]\n",
      "Input:  [1.0, 0.5, 1.0, 0.5, 0.0]  Output:  [0, 1, 0]\n",
      "Input:  [1.0, 1.0, 0.0, 0.5, 0.5]  Output:  [1, 0, 0]\n"
     ]
    }
   ],
   "source": [
    "data = pd.read_excel('diagnosis.xlsx')\n",
    "data.head()\n",
    "training_set = []\n",
    "for index, row in data.iterrows():\n",
    "    features = [row['Fever'], row['Cough'], row['Headache'], row['Tiredness'], row['Night Sweat']]\n",
    "    result = [row['Pneumonia'], row['Flu'], row['Cold']]\n",
    "    training_set.append((features, result))\n",
    "\n",
    "perceptron = Perceptron(training_set)\n",
    "perceptron.learning()\n",
    "\n",
    "for row in training_set:\n",
    "    net_input = row[0]\n",
    "    net_output = perceptron.run(net_input)\n",
    "    print(\"Input: \", net_input, \" Output: \", net_output)\n",
    "\n",
    "header = list(data.columns)\n",
    " "
   ]
  },
  {
   "cell_type": "markdown",
   "metadata": {},
   "source": [
    "### Usage of diagnosis app"
   ]
  },
  {
   "cell_type": "code",
   "execution_count": 5,
   "metadata": {
    "ExecuteTime": {
     "end_time": "2024-03-02T13:19:21.086573Z",
     "start_time": "2024-03-02T13:19:21.034777Z"
    }
   },
   "outputs": [
    {
     "name": "stdout",
     "output_type": "stream",
     "text": [
      "Input:  [0.0, 0.5, 0.0, 0.0, 0.0]  Output:  [0, 0, 1]\n",
      "Input:  [1.0, 1.0, 1.0, 1.0, 0.0]  Output:  [0, 1, 0]\n",
      "Input:  [0.5, 1.0, 0.0, 1.0, 1.0]  Output:  [1, 0, 0]\n",
      "Input:  [1.0, 0.5, 0.5, 0.5, 0.0]  Output:  [1, 0, 0]\n",
      "Input:  [0.0, 0.5, 0.0, 0.2, 0.0]  Output:  [0, 0, 1]\n"
     ]
    },
    {
     "data": {
      "text/html": [
       "<div>\n",
       "<style scoped>\n",
       "    .dataframe tbody tr th:only-of-type {\n",
       "        vertical-align: middle;\n",
       "    }\n",
       "\n",
       "    .dataframe tbody tr th {\n",
       "        vertical-align: top;\n",
       "    }\n",
       "\n",
       "    .dataframe thead th {\n",
       "        text-align: right;\n",
       "    }\n",
       "</style>\n",
       "<table border=\"1\" class=\"dataframe\">\n",
       "  <thead>\n",
       "    <tr style=\"text-align: right;\">\n",
       "      <th></th>\n",
       "      <th>Fever</th>\n",
       "      <th>Cough</th>\n",
       "      <th>Headache</th>\n",
       "      <th>Tiredness</th>\n",
       "      <th>Night Sweat</th>\n",
       "      <th>Pneumonia</th>\n",
       "      <th>Flu</th>\n",
       "      <th>Cold</th>\n",
       "    </tr>\n",
       "  </thead>\n",
       "  <tbody>\n",
       "    <tr>\n",
       "      <th>0</th>\n",
       "      <td>0.0</td>\n",
       "      <td>0.5</td>\n",
       "      <td>0.0</td>\n",
       "      <td>0.0</td>\n",
       "      <td>0.0</td>\n",
       "      <td>0.0</td>\n",
       "      <td>0.0</td>\n",
       "      <td>1.0</td>\n",
       "    </tr>\n",
       "    <tr>\n",
       "      <th>1</th>\n",
       "      <td>1.0</td>\n",
       "      <td>1.0</td>\n",
       "      <td>1.0</td>\n",
       "      <td>1.0</td>\n",
       "      <td>0.0</td>\n",
       "      <td>0.0</td>\n",
       "      <td>1.0</td>\n",
       "      <td>0.0</td>\n",
       "    </tr>\n",
       "    <tr>\n",
       "      <th>2</th>\n",
       "      <td>0.5</td>\n",
       "      <td>1.0</td>\n",
       "      <td>0.0</td>\n",
       "      <td>1.0</td>\n",
       "      <td>1.0</td>\n",
       "      <td>1.0</td>\n",
       "      <td>0.0</td>\n",
       "      <td>0.0</td>\n",
       "    </tr>\n",
       "    <tr>\n",
       "      <th>3</th>\n",
       "      <td>1.0</td>\n",
       "      <td>0.5</td>\n",
       "      <td>0.5</td>\n",
       "      <td>0.5</td>\n",
       "      <td>0.0</td>\n",
       "      <td>1.0</td>\n",
       "      <td>0.0</td>\n",
       "      <td>0.0</td>\n",
       "    </tr>\n",
       "    <tr>\n",
       "      <th>4</th>\n",
       "      <td>0.0</td>\n",
       "      <td>0.5</td>\n",
       "      <td>0.0</td>\n",
       "      <td>0.2</td>\n",
       "      <td>0.0</td>\n",
       "      <td>0.0</td>\n",
       "      <td>0.0</td>\n",
       "      <td>1.0</td>\n",
       "    </tr>\n",
       "  </tbody>\n",
       "</table>\n",
       "</div>"
      ],
      "text/plain": [
       "   Fever  Cough  Headache  Tiredness  Night Sweat  Pneumonia  Flu  Cold\n",
       "0    0.0    0.5       0.0        0.0          0.0        0.0  0.0   1.0\n",
       "1    1.0    1.0       1.0        1.0          0.0        0.0  1.0   0.0\n",
       "2    0.5    1.0       0.0        1.0          1.0        1.0  0.0   0.0\n",
       "3    1.0    0.5       0.5        0.5          0.0        1.0  0.0   0.0\n",
       "4    0.0    0.5       0.0        0.2          0.0        0.0  0.0   1.0"
      ]
     },
     "execution_count": 5,
     "metadata": {},
     "output_type": "execute_result"
    }
   ],
   "source": [
    "input_data = pd.read_excel('diagnosis_input.xlsx')\n",
    "input_data.head()\n",
    "input_set = []\n",
    "for index, row in input_data.iterrows():\n",
    "    features = [row['Fever'], row['Cough'], row['Headache'], row['Tiredness'], row['Night Sweat']]\n",
    "    input_set.append(features)\n",
    "\n",
    "output_set = []\n",
    "for net_input in input_set:\n",
    "    net_output = perceptron.run(net_input)\n",
    "    output_set.append(net_output)\n",
    "    print(\"Input: \", net_input, \" Output: \", net_output)\n",
    "# Create a DataFrame for the output data\n",
    "\n",
    "header = list(data.columns)\n",
    "output_data = pd.DataFrame(columns=header)\n",
    "\n",
    "for i in range(len(input_set)):\n",
    "    row = input_set[i] + output_set[i]\n",
    "    output_data.loc[i] = row\n",
    "\n",
    "output_data.to_excel('diagnosis_output.xlsx', index=False)\n",
    "output_data\n",
    "\n"
   ]
  },
  {
   "cell_type": "code",
   "execution_count": null,
   "metadata": {
    "collapsed": false,
    "jupyter": {
     "outputs_hidden": false
    }
   },
   "outputs": [],
   "source": []
  }
 ],
 "metadata": {
  "kernelspec": {
   "display_name": "Python 3 (ipykernel)",
   "language": "python",
   "name": "python3"
  },
  "language_info": {
   "codemirror_mode": {
    "name": "ipython",
    "version": 3
   },
   "file_extension": ".py",
   "mimetype": "text/x-python",
   "name": "python",
   "nbconvert_exporter": "python",
   "pygments_lexer": "ipython3",
   "version": "3.12.0"
  }
 },
 "nbformat": 4,
 "nbformat_minor": 4
}
