{
 "cells": [
  {
   "cell_type": "markdown",
   "id": "ac18ed3dc32ba0a",
   "metadata": {
    "collapsed": false
   },
   "source": [
    "## Backpropagation multilayered Neural Network"
   ]
  },
  {
   "cell_type": "code",
   "execution_count": 1,
   "id": "e3e0fd1c551b0884",
   "metadata": {
    "ExecuteTime": {
     "end_time": "2024-03-08T12:29:08.340785Z",
     "start_time": "2024-03-08T12:29:07.957401Z"
    },
    "collapsed": false
   },
   "outputs": [],
   "source": [
    "import numpy as np\n",
    "import pandas as pd\n",
    "from backpropagation import BackPropagation\n"
   ]
  },
  {
   "cell_type": "markdown",
   "id": "5dabdb0a8378bdbb",
   "metadata": {
    "collapsed": false
   },
   "source": [
    "### Create training set from diagnosis.xlsx"
   ]
  },
  {
   "cell_type": "code",
   "execution_count": 2,
   "id": "a36b7f14ceba5415",
   "metadata": {
    "ExecuteTime": {
     "end_time": "2024-03-08T12:29:08.426105Z",
     "start_time": "2024-03-08T12:29:08.342340Z"
    },
    "collapsed": false
   },
   "outputs": [
    {
     "data": {
      "text/plain": [
       "[([0.0, 0.5, 0.5, 0.0, 0.0], [0.0, 0.0, 1.0]),\n",
       " ([1.0, 1.0, 1.0, 1.0, 0.0], [0.0, 1.0, 0.0]),\n",
       " ([0.5, 1.0, 0.0, 1.0, 1.0], [1.0, 0.0, 0.0]),\n",
       " ([0.0, 0.5, 0.0, 0.0, 0.0], [0.0, 0.0, 1.0]),\n",
       " ([1.0, 0.5, 1.0, 0.5, 0.0], [0.0, 1.0, 0.0]),\n",
       " ([1.0, 1.0, 0.0, 0.5, 0.5], [1.0, 0.0, 0.0])]"
      ]
     },
     "execution_count": 2,
     "metadata": {},
     "output_type": "execute_result"
    }
   ],
   "source": [
    "data = pd.read_excel('diagnosis.xlsx')\n",
    "data.head()\n",
    "training_set = []\n",
    "for index, row in data.iterrows():\n",
    "    features = [row['Fever'], row['Cough'], row['Headache'], row['Tiredness'], row['Night Sweat']]\n",
    "    result = [row['Pneumonia'], row['Flu'], row['Cold']]\n",
    "    training_set.append((features, result))\n",
    "    \n",
    "training_set"
   ]
  },
  {
   "cell_type": "markdown",
   "id": "39ac06481fdcfd80",
   "metadata": {
    "collapsed": false
   },
   "source": [
    "### Initialize and learn multilayered neural network\n",
    "* training set is given by a list [([i11, i12 ... i1N],[o11 ... o1M]), ... ([ik1, ..., ikN],[ok1, ..., okM])]\n",
    "* topology [num_of_features, num_of_inner_neurons, num_of_inner_neurons, num_of_results]\n",
    "* learning rates [for_weights, for_biases, for_slopes]\n",
    "* number of leraning epochs\n",
    "\n",
    "In case of learning rates for biases and slopes equal 0 only weights based learning is executed"
   ]
  },
  {
   "cell_type": "code",
   "execution_count": 3,
   "id": "1af2e0b2d989c4c8",
   "metadata": {
    "ExecuteTime": {
     "end_time": "2024-03-08T12:29:08.708459Z",
     "start_time": "2024-03-08T12:29:08.426715Z"
    },
    "collapsed": false
   },
   "outputs": [
    {
     "name": "stdout",
     "output_type": "stream",
     "text": [
      "Input:  [0.0, 0.5, 0.5, 0.0, 0.0]  Output:  [0.01, 0.01, 0.99]\n",
      "Input:  [1.0, 1.0, 1.0, 1.0, 0.0]  Output:  [0.01, 0.99, 0.0]\n",
      "Input:  [0.5, 1.0, 0.0, 1.0, 1.0]  Output:  [0.99, 0.01, 0.01]\n",
      "Input:  [0.0, 0.5, 0.0, 0.0, 0.0]  Output:  [0.01, 0.01, 0.99]\n",
      "Input:  [1.0, 0.5, 1.0, 0.5, 0.0]  Output:  [0.01, 0.99, 0.0]\n",
      "Input:  [1.0, 1.0, 0.0, 0.5, 0.5]  Output:  [0.99, 0.01, 0.01]\n"
     ]
    }
   ],
   "source": [
    "bpnn = BackPropagation(training_set,[5, 5, 4, 3], [0.3, 0.1, 0.1], 1000)\n",
    "bpnn.backpropagation()\n",
    "for row in training_set:\n",
    "    net_input = row[0]\n",
    "    bpnn.feed_forward(net_input)\n",
    "    net_output = bpnn.output_activation.reshape([1,3])\n",
    "    print(\"Input: \", net_input, \" Output: \", net_output.flatten().tolist())\n"
   ]
  },
  {
   "cell_type": "markdown",
   "id": "9010db8ca231b112",
   "metadata": {
    "collapsed": false
   },
   "source": [
    "### Usage of diagnosis app"
   ]
  },
  {
   "cell_type": "code",
   "execution_count": 6,
   "id": "b9ec3a3f541b8869",
   "metadata": {
    "ExecuteTime": {
     "end_time": "2024-03-08T12:29:08.729559Z",
     "start_time": "2024-03-08T12:29:08.709667Z"
    },
    "collapsed": false
   },
   "outputs": [
    {
     "name": "stdout",
     "output_type": "stream",
     "text": [
      "Input:  [0.0, 0.5, 0.0, 0.0, 0.0]  Output:  [0.01, 0.01, 0.99]\n",
      "Input:  [1.0, 1.0, 1.0, 1.0, 0.0]  Output:  [0.01, 0.99, 0.0]\n",
      "Input:  [0.5, 1.0, 0.0, 1.0, 1.0]  Output:  [0.99, 0.01, 0.01]\n",
      "Input:  [1.0, 0.5, 0.5, 0.5, 0.0]  Output:  [0.01, 0.99, 0.0]\n",
      "Input:  [0.0, 0.5, 0.0, 0.2, 0.0]  Output:  [0.01, 0.01, 0.99]\n"
     ]
    },
    {
     "data": {
      "text/html": [
       "<div>\n",
       "<style scoped>\n",
       "    .dataframe tbody tr th:only-of-type {\n",
       "        vertical-align: middle;\n",
       "    }\n",
       "\n",
       "    .dataframe tbody tr th {\n",
       "        vertical-align: top;\n",
       "    }\n",
       "\n",
       "    .dataframe thead th {\n",
       "        text-align: right;\n",
       "    }\n",
       "</style>\n",
       "<table border=\"1\" class=\"dataframe\">\n",
       "  <thead>\n",
       "    <tr style=\"text-align: right;\">\n",
       "      <th></th>\n",
       "      <th>Fever</th>\n",
       "      <th>Cough</th>\n",
       "      <th>Headache</th>\n",
       "      <th>Tiredness</th>\n",
       "      <th>Night Sweat</th>\n",
       "      <th>Pneumonia</th>\n",
       "      <th>Flu</th>\n",
       "      <th>Cold</th>\n",
       "    </tr>\n",
       "  </thead>\n",
       "  <tbody>\n",
       "    <tr>\n",
       "      <th>0</th>\n",
       "      <td>0.0</td>\n",
       "      <td>0.5</td>\n",
       "      <td>0.0</td>\n",
       "      <td>0.0</td>\n",
       "      <td>0.0</td>\n",
       "      <td>0.01</td>\n",
       "      <td>0.01</td>\n",
       "      <td>0.99</td>\n",
       "    </tr>\n",
       "    <tr>\n",
       "      <th>1</th>\n",
       "      <td>1.0</td>\n",
       "      <td>1.0</td>\n",
       "      <td>1.0</td>\n",
       "      <td>1.0</td>\n",
       "      <td>0.0</td>\n",
       "      <td>0.01</td>\n",
       "      <td>0.99</td>\n",
       "      <td>0.00</td>\n",
       "    </tr>\n",
       "    <tr>\n",
       "      <th>2</th>\n",
       "      <td>0.5</td>\n",
       "      <td>1.0</td>\n",
       "      <td>0.0</td>\n",
       "      <td>1.0</td>\n",
       "      <td>1.0</td>\n",
       "      <td>0.99</td>\n",
       "      <td>0.01</td>\n",
       "      <td>0.01</td>\n",
       "    </tr>\n",
       "    <tr>\n",
       "      <th>3</th>\n",
       "      <td>1.0</td>\n",
       "      <td>0.5</td>\n",
       "      <td>0.5</td>\n",
       "      <td>0.5</td>\n",
       "      <td>0.0</td>\n",
       "      <td>0.01</td>\n",
       "      <td>0.99</td>\n",
       "      <td>0.00</td>\n",
       "    </tr>\n",
       "    <tr>\n",
       "      <th>4</th>\n",
       "      <td>0.0</td>\n",
       "      <td>0.5</td>\n",
       "      <td>0.0</td>\n",
       "      <td>0.2</td>\n",
       "      <td>0.0</td>\n",
       "      <td>0.01</td>\n",
       "      <td>0.01</td>\n",
       "      <td>0.99</td>\n",
       "    </tr>\n",
       "  </tbody>\n",
       "</table>\n",
       "</div>"
      ],
      "text/plain": [
       "   Fever  Cough  Headache  Tiredness  Night Sweat  Pneumonia   Flu  Cold\n",
       "0    0.0    0.5       0.0        0.0          0.0       0.01  0.01  0.99\n",
       "1    1.0    1.0       1.0        1.0          0.0       0.01  0.99  0.00\n",
       "2    0.5    1.0       0.0        1.0          1.0       0.99  0.01  0.01\n",
       "3    1.0    0.5       0.5        0.5          0.0       0.01  0.99  0.00\n",
       "4    0.0    0.5       0.0        0.2          0.0       0.01  0.01  0.99"
      ]
     },
     "execution_count": 6,
     "metadata": {},
     "output_type": "execute_result"
    }
   ],
   "source": [
    "input_data = pd.read_excel('diagnosis_input.xlsx')\n",
    "input_data.head()\n",
    "input_set = []\n",
    "for index, row in input_data.iterrows():\n",
    "    features = [row['Fever'], row['Cough'], row['Headache'], row['Tiredness'], row['Night Sweat']]\n",
    "    input_set.append(features)\n",
    "\n",
    "output_set = []\n",
    "for net_input in input_set:\n",
    "    net_output = bpnn.run(net_input)\n",
    "    output_set.append(net_output)\n",
    "    print(\"Input: \", net_input, \" Output: \", net_output)\n",
    "# Create a DataFrame for the output data\n",
    "\n",
    "header = list(data.columns)\n",
    "output_data = pd.DataFrame(columns=header)\n",
    "\n",
    "for i in range(len(input_set)):\n",
    "    row = input_set[i] + output_set[i]\n",
    "    output_data.loc[i] = row\n",
    "\n",
    "output_data.to_excel('bp_diagnosis_output.xlsx', index=False)\n",
    "output_data"
   ]
  },
  {
   "cell_type": "markdown",
   "id": "a9f913cacb1cb0d5",
   "metadata": {
    "ExecuteTime": {
     "end_time": "2024-03-08T10:16:55.300053Z",
     "start_time": "2024-03-08T10:16:55.298772Z"
    },
    "collapsed": false
   },
   "source": [
    "### Mean squared error for the training set"
   ]
  },
  {
   "cell_type": "code",
   "execution_count": 7,
   "id": "b2e42461",
   "metadata": {
    "ExecuteTime": {
     "end_time": "2024-03-08T12:29:08.733324Z",
     "start_time": "2024-03-08T12:29:08.730607Z"
    }
   },
   "outputs": [
    {
     "data": {
      "text/plain": [
       "0.00026666666666666684"
      ]
     },
     "execution_count": 7,
     "metadata": {},
     "output_type": "execute_result"
    }
   ],
   "source": [
    "error = bpnn.calculate_mean_squared_error()\n",
    "error"
   ]
  },
  {
   "cell_type": "code",
   "execution_count": null,
   "id": "2e203f35",
   "metadata": {
    "ExecuteTime": {
     "end_time": "2024-03-08T12:29:08.735848Z",
     "start_time": "2024-03-08T12:29:08.733979Z"
    }
   },
   "outputs": [],
   "source": []
  }
 ],
 "metadata": {
  "kernelspec": {
   "display_name": "Python 3 (ipykernel)",
   "language": "python",
   "name": "python3"
  },
  "language_info": {
   "codemirror_mode": {
    "name": "ipython",
    "version": 3
   },
   "file_extension": ".py",
   "mimetype": "text/x-python",
   "name": "python",
   "nbconvert_exporter": "python",
   "pygments_lexer": "ipython3",
   "version": "3.12.0"
  }
 },
 "nbformat": 4,
 "nbformat_minor": 5
}
