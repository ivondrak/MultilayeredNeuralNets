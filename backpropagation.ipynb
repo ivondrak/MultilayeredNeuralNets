{
 "cells": [
  {
   "cell_type": "markdown",
   "id": "ac18ed3dc32ba0a",
   "metadata": {
    "collapsed": false
   },
   "source": [
    "## Backpropagation multilayered Neural Network"
   ]
  },
  {
   "cell_type": "code",
   "outputs": [],
   "source": [
    "import numpy as np\n",
    "import pandas as pd\n",
    "from backpropagation import BackPropagation\n"
   ],
   "metadata": {
    "collapsed": false,
    "ExecuteTime": {
     "end_time": "2024-03-03T16:27:08.096956Z",
     "start_time": "2024-03-03T16:27:07.674643Z"
    }
   },
   "id": "e3e0fd1c551b0884",
   "execution_count": 1
  },
  {
   "cell_type": "markdown",
   "source": [
    "### Create training set from diagnosis.xlsx"
   ],
   "metadata": {
    "collapsed": false
   },
   "id": "5dabdb0a8378bdbb"
  },
  {
   "cell_type": "code",
   "outputs": [],
   "source": [
    "data = pd.read_excel('diagnosis.xlsx')\n",
    "data.head()\n",
    "training_set = []\n",
    "for index, row in data.iterrows():\n",
    "    features = [row['Fever'], row['Cough'], row['Headache'], row['Tiredness'], row['Night Sweat']]\n",
    "    result = [row['Pneumonia'], row['Flu'], row['Cold']]\n",
    "    training_set.append((features, result))"
   ],
   "metadata": {
    "collapsed": false,
    "ExecuteTime": {
     "end_time": "2024-03-03T16:27:08.196473Z",
     "start_time": "2024-03-03T16:27:08.097942Z"
    }
   },
   "id": "a36b7f14ceba5415",
   "execution_count": 2
  },
  {
   "cell_type": "markdown",
   "id": "39ac06481fdcfd80",
   "metadata": {
    "collapsed": false
   },
   "source": [
    "### Initialize multilayered neural network\n"
   ]
  },
  {
   "cell_type": "code",
   "execution_count": 3,
   "id": "6385dfdf003fb4a1",
   "metadata": {
    "collapsed": false,
    "ExecuteTime": {
     "end_time": "2024-03-03T16:27:08.201938Z",
     "start_time": "2024-03-03T16:27:08.197190Z"
    }
   },
   "outputs": [
    {
     "data": {
      "text/plain": "array([[0.13106826],\n       [0.26906403],\n       [0.32971644]])"
     },
     "execution_count": 3,
     "metadata": {},
     "output_type": "execute_result"
    }
   ],
   "source": [
    "bpnn = BackPropagation(training_set,[5, 5, 4, 3])\n",
    "bpnn.feed_forward([1., 1., 1., 1., 1.])\n",
    "bpnn.calculate_errors([0.5, 0.5, 0.5])\n",
    "bpnn.output_error\n"
   ]
  },
  {
   "cell_type": "code",
   "execution_count": 3,
   "id": "2c62f3741cb73cfa",
   "metadata": {
    "collapsed": false,
    "ExecuteTime": {
     "end_time": "2024-03-03T16:27:08.204977Z",
     "start_time": "2024-03-03T16:27:08.203145Z"
    }
   },
   "outputs": [],
   "source": []
  }
 ],
 "metadata": {
  "kernelspec": {
   "display_name": "Python 3 (ipykernel)",
   "language": "python",
   "name": "python3"
  },
  "language_info": {
   "codemirror_mode": {
    "name": "ipython",
    "version": 3
   },
   "file_extension": ".py",
   "mimetype": "text/x-python",
   "name": "python",
   "nbconvert_exporter": "python",
   "pygments_lexer": "ipython3",
   "version": "3.12.0"
  }
 },
 "nbformat": 4,
 "nbformat_minor": 5
}
