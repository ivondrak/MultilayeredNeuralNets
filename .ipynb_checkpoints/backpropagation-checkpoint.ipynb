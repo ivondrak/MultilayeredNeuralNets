{
 "cells": [
  {
   "cell_type": "markdown",
   "source": [
    "## Backpropagation multilayered Neural Network"
   ],
   "metadata": {
    "collapsed": false
   },
   "id": "ac18ed3dc32ba0a"
  },
  {
   "cell_type": "markdown",
   "source": [
    "import numpy as np\n",
    "from backpropagation import BackPropagation\n"
   ],
   "metadata": {
    "collapsed": false
   },
   "id": "362242fa1619fb0f"
  },
  {
   "cell_type": "markdown",
   "source": [
    "### Initialize multilayered neural network"
   ],
   "metadata": {
    "collapsed": false
   },
   "id": "39ac06481fdcfd80"
  },
  {
   "cell_type": "code",
   "outputs": [
    {
     "data": {
      "text/plain": "[array([[-0.24914025, -0.86727488,  0.22581984,  0.02863162, -2.20949441],\n        [-0.63364785,  0.30369463, -0.45390276,  1.42462279, -0.5715926 ],\n        [-0.18733458,  1.14163217, -0.89158178,  0.54190666, -0.63493069],\n        [ 0.2254952 ,  1.2283184 ,  1.05365079, -0.3398794 ,  0.31162718],\n        [ 0.11196027, -1.93337741, -1.28625134,  0.31108275,  0.39646127]]),\n array([[-1.04711862,  0.23319198,  0.51892951, -1.37169706, -1.67193911],\n        [-1.34669176,  0.51411466, -0.34015133, -1.23583799, -2.13022204],\n        [ 0.78230643, -0.78680574,  1.75170386, -0.86969464,  0.60201233],\n        [ 0.90521715, -0.23897548, -0.67938532,  0.45103588,  0.0064436 ]]),\n array([[ 0.24485476, -0.97542141,  2.03145043, -0.09254886],\n        [ 0.90093282,  1.56298503,  0.99686118,  1.31383874],\n        [ 0.85483447, -0.63277598, -1.89970097, -0.01091263]])]"
     },
     "execution_count": 1,
     "metadata": {},
     "output_type": "execute_result"
    }
   ],
   "source": [
    "from backpropagation import BackPropagation\n",
    "\n",
    "bpnn = BackPropagation([],[5, 5, 4, 3])\n",
    "bpnn.weights\n"
   ],
   "metadata": {
    "collapsed": false,
    "ExecuteTime": {
     "end_time": "2024-03-02T20:34:40.934296Z",
     "start_time": "2024-03-02T20:34:40.786684Z"
    }
   },
   "id": "6385dfdf003fb4a1",
   "execution_count": 1
  },
  {
   "cell_type": "code",
   "outputs": [],
   "source": [],
   "metadata": {
    "collapsed": false,
    "ExecuteTime": {
     "end_time": "2024-03-02T20:31:52.782979Z",
     "start_time": "2024-03-02T20:31:52.778909Z"
    }
   },
   "id": "2c62f3741cb73cfa",
   "execution_count": 4
  }
 ],
 "metadata": {
  "kernelspec": {
   "display_name": "Python 3",
   "language": "python",
   "name": "python3"
  },
  "language_info": {
   "codemirror_mode": {
    "name": "ipython",
    "version": 2
   },
   "file_extension": ".py",
   "mimetype": "text/x-python",
   "name": "python",
   "nbconvert_exporter": "python",
   "pygments_lexer": "ipython2",
   "version": "2.7.6"
  }
 },
 "nbformat": 4,
 "nbformat_minor": 5
}
