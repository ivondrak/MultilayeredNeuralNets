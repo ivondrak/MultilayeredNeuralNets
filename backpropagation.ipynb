{
 "cells": [
  {
   "cell_type": "markdown",
   "id": "ac18ed3dc32ba0a",
   "metadata": {
    "collapsed": false
   },
   "source": [
    "## Backpropagation multilayered Neural Network"
   ]
  },
  {
   "cell_type": "code",
   "outputs": [],
   "source": [
    "import numpy as np\n",
    "import pandas as pd\n",
    "from backpropagation import BackPropagation\n"
   ],
   "metadata": {
    "collapsed": false,
    "ExecuteTime": {
     "end_time": "2024-03-05T08:54:09.314888Z",
     "start_time": "2024-03-05T08:54:08.950339Z"
    }
   },
   "id": "e3e0fd1c551b0884",
   "execution_count": 1
  },
  {
   "cell_type": "markdown",
   "source": [
    "### Create training set from diagnosis.xlsx"
   ],
   "metadata": {
    "collapsed": false
   },
   "id": "5dabdb0a8378bdbb"
  },
  {
   "cell_type": "code",
   "outputs": [],
   "source": [
    "data = pd.read_excel('diagnosis.xlsx')\n",
    "data.head()\n",
    "training_set = []\n",
    "for index, row in data.iterrows():\n",
    "    features = [row['Fever'], row['Cough'], row['Headache'], row['Tiredness'], row['Night Sweat']]\n",
    "    result = [row['Pneumonia'], row['Flu'], row['Cold']]\n",
    "    training_set.append((features, result))"
   ],
   "metadata": {
    "collapsed": false,
    "ExecuteTime": {
     "end_time": "2024-03-05T08:54:09.475232Z",
     "start_time": "2024-03-05T08:54:09.327308Z"
    }
   },
   "id": "a36b7f14ceba5415",
   "execution_count": 2
  },
  {
   "cell_type": "markdown",
   "id": "39ac06481fdcfd80",
   "metadata": {
    "collapsed": false
   },
   "source": [
    "### Initialize and learn multilayered neural network"
   ]
  },
  {
   "cell_type": "code",
   "execution_count": 3,
   "id": "6385dfdf003fb4a1",
   "metadata": {
    "collapsed": false,
    "ExecuteTime": {
     "end_time": "2024-03-05T08:54:09.598995Z",
     "start_time": "2024-03-05T08:54:09.476387Z"
    }
   },
   "outputs": [
    {
     "name": "stdout",
     "output_type": "stream",
     "text": [
      "Input:  [0.0, 0.5, 0.5, 0.0, 0.0]  Output:  [[0.03699057]\n",
      " [0.05997777]\n",
      " [0.92923934]]\n",
      "Input:  [1.0, 1.0, 1.0, 1.0, 0.0]  Output:  [[0.1289983 ]\n",
      " [0.8717239 ]\n",
      " [0.04293265]]\n",
      "Input:  [0.5, 1.0, 0.0, 1.0, 1.0]  Output:  [[0.84982941]\n",
      " [0.15629466]\n",
      " [0.02594552]]\n",
      "Input:  [0.0, 0.5, 0.0, 0.0, 0.0]  Output:  [[0.05550391]\n",
      " [0.01709165]\n",
      " [0.95907086]]\n",
      "Input:  [1.0, 0.5, 1.0, 0.5, 0.0]  Output:  [[0.11546453]\n",
      " [0.85843758]\n",
      " [0.06404405]]\n",
      "Input:  [1.0, 1.0, 0.0, 0.5, 0.5]  Output:  [[0.93274238]\n",
      " [0.06053893]\n",
      " [0.02141237]]\n"
     ]
    }
   ],
   "source": [
    "bpnn = BackPropagation(training_set,[5, 5, 4, 3])\n",
    "bpnn.backpropagation()\n",
    "for row in training_set:\n",
    "    net_input = row[0]\n",
    "    bpnn.feed_forward(net_input)\n",
    "    net_output = bpnn.output_activation\n",
    "    print(\"Input: \", net_input, \" Output: \", net_output)\n"
   ]
  },
  {
   "cell_type": "code",
   "execution_count": 3,
   "id": "2c62f3741cb73cfa",
   "metadata": {
    "collapsed": false,
    "ExecuteTime": {
     "end_time": "2024-03-05T08:54:09.601087Z",
     "start_time": "2024-03-05T08:54:09.599646Z"
    }
   },
   "outputs": [],
   "source": []
  }
 ],
 "metadata": {
  "kernelspec": {
   "display_name": "Python 3 (ipykernel)",
   "language": "python",
   "name": "python3"
  },
  "language_info": {
   "codemirror_mode": {
    "name": "ipython",
    "version": 3
   },
   "file_extension": ".py",
   "mimetype": "text/x-python",
   "name": "python",
   "nbconvert_exporter": "python",
   "pygments_lexer": "ipython3",
   "version": "3.12.0"
  }
 },
 "nbformat": 4,
 "nbformat_minor": 5
}
