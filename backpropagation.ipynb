{
 "cells": [
  {
   "cell_type": "markdown",
   "id": "ac18ed3dc32ba0a",
   "metadata": {
    "collapsed": false
   },
   "source": [
    "## Backpropagation multilayered Neural Network"
   ]
  },
  {
   "cell_type": "code",
   "outputs": [],
   "source": [
    "import numpy as np\n",
    "import pandas as pd\n",
    "from backpropagation import BackPropagation\n"
   ],
   "metadata": {
    "collapsed": false,
    "ExecuteTime": {
     "end_time": "2024-03-07T18:00:55.829080Z",
     "start_time": "2024-03-07T18:00:55.426551Z"
    }
   },
   "id": "e3e0fd1c551b0884",
   "execution_count": 1
  },
  {
   "cell_type": "markdown",
   "source": [
    "### Create training set from diagnosis.xlsx"
   ],
   "metadata": {
    "collapsed": false
   },
   "id": "5dabdb0a8378bdbb"
  },
  {
   "cell_type": "code",
   "outputs": [
    {
     "data": {
      "text/plain": "[([0.0, 0.5, 0.5, 0.0, 0.0], [0.0, 0.0, 1.0]),\n ([1.0, 1.0, 1.0, 1.0, 0.0], [0.0, 1.0, 0.0]),\n ([0.5, 1.0, 0.0, 1.0, 1.0], [1.0, 0.0, 0.0]),\n ([0.0, 0.5, 0.0, 0.0, 0.0], [0.0, 0.0, 1.0]),\n ([1.0, 0.5, 1.0, 0.5, 0.0], [0.0, 1.0, 0.0]),\n ([1.0, 1.0, 0.0, 0.5, 0.5], [1.0, 0.0, 0.0])]"
     },
     "execution_count": 2,
     "metadata": {},
     "output_type": "execute_result"
    }
   ],
   "source": [
    "data = pd.read_excel('diagnosis.xlsx')\n",
    "data.head()\n",
    "training_set = []\n",
    "for index, row in data.iterrows():\n",
    "    features = [row['Fever'], row['Cough'], row['Headache'], row['Tiredness'], row['Night Sweat']]\n",
    "    result = [row['Pneumonia'], row['Flu'], row['Cold']]\n",
    "    training_set.append((features, result))\n",
    "    \n",
    "training_set"
   ],
   "metadata": {
    "collapsed": false,
    "ExecuteTime": {
     "end_time": "2024-03-07T18:00:55.917763Z",
     "start_time": "2024-03-07T18:00:55.830049Z"
    }
   },
   "id": "a36b7f14ceba5415",
   "execution_count": 2
  },
  {
   "cell_type": "markdown",
   "id": "39ac06481fdcfd80",
   "metadata": {
    "collapsed": false
   },
   "source": [
    "### Initialize and learn multilayered neural network"
   ]
  },
  {
   "cell_type": "code",
   "outputs": [],
   "source": [
    "bpnn = BackPropagation(training_set,[5, 5, 4, 3], 10000)\n",
    "bpnn.backpropagation()\n",
    "for row in training_set:\n",
    "    net_input = row[0]\n",
    "    bpnn.feed_forward(net_input)\n",
    "    net_output = bpnn.output_activation.reshape([1,3])\n",
    "    print(\"Input: \", net_input, \" Output: \", net_output.flatten().tolist())\n"
   ],
   "metadata": {
    "collapsed": false
   },
   "id": "1af2e0b2d989c4c8"
  },
  {
   "cell_type": "markdown",
   "source": [
    "### Usage of diagnosis app"
   ],
   "metadata": {
    "collapsed": false
   },
   "id": "9010db8ca231b112"
  },
  {
   "cell_type": "markdown",
   "source": [],
   "metadata": {
    "collapsed": false
   },
   "id": "c413241c5a1cc54b"
  },
  {
   "cell_type": "code",
   "outputs": [],
   "source": [
    "input_data = pd.read_excel('diagnosis_input.xlsx')\n",
    "input_data.head()\n",
    "input_set = []\n",
    "for index, row in input_data.iterrows():\n",
    "    features = [row['Fever'], row['Cough'], row['Headache'], row['Tiredness'], row['Night Sweat']]\n",
    "    input_set.append(features)\n",
    "\n",
    "output_set = []\n",
    "for net_input in input_set:\n",
    "    net_output = bpnn.run(net_input)\n",
    "    output_set.append(net_output)\n",
    "    print(\"Input: \", net_input, \" Output: \", net_output)\n",
    "# Create a DataFrame for the output data\n",
    "\n",
    "header = list(data.columns)\n",
    "output_data = pd.DataFrame(columns=header)\n",
    "\n",
    "for i in range(len(input_set)):\n",
    "    row = input_set[i] + output_set[i]\n",
    "    output_data.loc[i] = row\n",
    "\n",
    "output_data.to_excel('bp_diagnosis_output.xlsx', index=False)\n",
    "output_data"
   ],
   "metadata": {
    "collapsed": false
   },
   "id": "b9ec3a3f541b8869"
  },
  {
   "cell_type": "code",
   "outputs": [],
   "source": [
    "bpnn = BackPropagation(training_set,[5, 5, 4, 3], 1000)\n",
    "bpnn.deltas_biases"
   ],
   "metadata": {
    "collapsed": false
   },
   "id": "842fe813c645d4"
  },
  {
   "cell_type": "code",
   "outputs": [],
   "source": [],
   "metadata": {
    "collapsed": false,
    "ExecuteTime": {
     "end_time": "2024-03-07T18:00:58.751724Z",
     "start_time": "2024-03-07T18:00:58.750496Z"
    }
   },
   "id": "66448d61dd88cb65",
   "execution_count": 4
  }
 ],
 "metadata": {
  "kernelspec": {
   "display_name": "Python 3 (ipykernel)",
   "language": "python",
   "name": "python3"
  },
  "language_info": {
   "codemirror_mode": {
    "name": "ipython",
    "version": 3
   },
   "file_extension": ".py",
   "mimetype": "text/x-python",
   "name": "python",
   "nbconvert_exporter": "python",
   "pygments_lexer": "ipython3",
   "version": "3.12.0"
  }
 },
 "nbformat": 4,
 "nbformat_minor": 5
}
