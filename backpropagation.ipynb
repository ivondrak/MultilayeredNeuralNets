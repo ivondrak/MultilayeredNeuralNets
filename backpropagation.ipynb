{
 "cells": [
  {
   "cell_type": "markdown",
   "id": "ac18ed3dc32ba0a",
   "metadata": {
    "collapsed": false
   },
   "source": [
    "## Backpropagation Multilayered Neural Network\n",
    "### Theoretical background\n",
    "**Most Commonly Used Connection Method of Artificial Neurons are Multilayer Networks**\n",
    "\n",
    "<div style=\"text-align: center;\">\n",
    "    <img src=\"multilayer_network.png\" alt=\"Multilayered Neural Network\" style=\"width: 50%;\">\n",
    "</div>\n",
    "\n",
    "From the depicted image, it is evident that a neural network is constructed minimally with three layers of neurons: input, output, and at least one internal layer. Always between two neighboring layers, there is what is called full interconnection of neurons, meaning each neuron of a lower layer is connected to all neurons of the higher layer. How is information processed in such a neural network? The example begins with single-pass, therefore feedforward filtering of the signal:\n",
    "\n",
    "1. Neurons are first excited to the corresponding level (ranging from 0 to 1) in the output layer.\n",
    "2. This excitation is transferred via connections to the next layer and modified (either amplified or weakened).\n",
    "3. Each neuron in this higher layer sums up the adjusted signals from the lower-layer neurons and is excited to a level determined by its activation function.\n",
    "4. This process propagates through all internal layers until the output layer, where we then obtain the excitation states of all its neurons.\n",
    "\n",
    "By this method, we have obtained a neural response to an input stimulus defined by the excitation of the input-layer neurons. This process of signal propagation occurs similarly in biological systems, where, for instance, the input layer may consist of visual cells, and in the output layer of the brain, specific objects are identified.\n",
    "\n",
    "The most crucial question remains: how are the synaptic weights that lead to a correct response to the input signal determined? The process of setting synaptic weights is again linked with the concept of learning - adaptation - of neural networks. Another issue is the ability to *generalize* - to abstract - from the learned material, in other words, how the neural network is capable of reasoning about phenomena that were not part of the learning process but can somehow be deduced. Here too, there is a sort of analogy with human learning, highlighted by the difference between rote memorization and learning associated with the ability to understand the issues so that new insights can be derived from the previous ones.\n",
    "\n",
    "What is necessary for teaching a neural network? It includes, first, a so-called *training set* containing elements that describe the problem at hand, and then a method that can fix these samples in the neural network in the form of synaptic weight values, including the aforementioned ability to generalize. Let us first stop at the training set. Each pattern of the training set describes how the neurons of the input and output layers are excited.\n",
    "\n",
    "Formally, we can define the training set $T$ as a set of elements (patterns), which are defined as ordered pairs in the following manner:\n",
    "\n",
    "$$T = \\{ (I_1, O_1), (I_2, O_2), \\ldots, (I_p, O_p) \\}$$\n",
    "\n",
    "where each $I_i$ and $O_i$ are vectors representing the excitation of the input and output layers respectively:\n",
    "\n",
    "$$\n",
    "I_i = [i_{i1}, i_{i2}, \\ldots, i_{in}], \\quad i_{ij} \\in [0,1]\n",
    "$$\n",
    "$$\n",
    "O_i = [o_{i1}, o_{i2}, \\ldots, o_{im}], \\quad o_{ij} \\in [0,1]\n",
    "$$\n",
    "\n",
    "Definitions:\n",
    "- $p$: number of patterns in the training set\n",
    "- $I_i$: vector of excitations of the input layer consisting of $n$ neurons\n",
    "- $O_i$: vector of excitations of the output layer consisting of $m$ neurons\n",
    "- $i_j, o_j$: excitation of the $j$-th neuron of the input and output layer respectively.\n",
    "\n",
    "The method that enables adaptation of a neural network over a given training set is called backpropagation, which translates to the method of backward propagation. Unlike the forward propagation of signals in the neural network already described, this adaptation method involves the opposite spread of information from the layers above to the lower layers. Let's first attempt a verbal description of this method:\n",
    "\n",
    "1. First, take the vector $I_i$ of the $i$-th element of the training set, which excites the neurons of the input layer to the corresponding level.\n",
    "2. In a known manner, propagate this signal forward until it reaches the neurons of the output layer.\n",
    "3. Compare the desired state given by the vector $O_i$ of the $i$-th element of the training set with the actual response of the neural network.\n",
    "4. The difference between the actual and desired response defines the error of the neural network. This error is then adjusted in a certain ratio - learning rate - and \"fed back\" into the neural network by adjusting synaptic weights from the upper layers to the lower layers so that the error in the subsequent response is reduced.\n",
    "5. After exhausting the entire training set, the total error across all training patterns is evaluated, and if it is higher than the desired, the entire process is repeated.\n",
    "\n",
    "Let's next consider a more exact definition of the backpropagation method (BP). The essence of the BP method lies in searching for the minimum of the error function $E$ defined in the following manner:\n",
    "\n",
    "$$\n",
    "E = \\frac{1}{2} \\sum_{i=1}^p \\sum_{j=1}^m (y_j - o_j)_i^2,\n",
    "$$\n",
    "\n",
    "where:\n",
    "- $y_j$: actual response of the $j$-th neuron in the output layer\n",
    "- $o_j$: desired response of the $j$-th neuron in the output layer given by the training set pattern\n",
    "- $p$: total number of patterns in the training set\n",
    "- $m$: number of neurons in the output layer\n",
    "\n",
    "The way to achieve this goal is through the adjustment of synaptic weights between neurons $i$ and $j$ according to the following formula:\n",
    "\n",
    "$$\n",
    "\\Delta w_{ij} = -\\eta \\frac{\\partial E}{\\partial w_{ij}}\n",
    "$$\n",
    "\n",
    "where:\n",
    "- $\\eta$: learning rate coefficient\n",
    "\n",
    "Let's attempt to clarify the expression given by the product of the learning coefficient $\\eta$ and the partial derivative of the error $E$ with respect to the synaptic weight $w_{ij}$. If the value of this derivative is large and positive, it indicates that even a minimal increase in the synaptic weight leads to a large error in the neural network's response. Therefore, it is necessary to \"reduce\" from the current value of the synaptic weight, as this will decrease the error. Similarly, for a large but negative value of the derivative, it is necessary to increase the value of the synaptic weight if the response error in the next step is to be lower. The magnitude of the synaptic weight adjustments are logically determined both by the values of these derivatives and the aforementioned learning rate coefficient.\n",
    "\n",
    "Next, we will demonstrate how to calculate the value of the derivative from the expression $\\Delta w_i$, simplifying by omitting the index $j$ of the given neuron. The initial state of the neural network is determined by randomly generating small positive values for synaptic weights.\n",
    "\n",
    "The calculation is then performed in the following direction:\n",
    "\n",
    "$$\n",
    "\\frac{\\partial E}{\\partial w_i} = \\frac{\\partial E}{\\partial y} \\cdot \\frac{\\partial y}{\\partial z} \\cdot \\frac{\\partial z}{\\partial w_i},\n",
    "$$\n",
    "\n",
    "where the following relationships hold:\n",
    "\n",
    "$$z = \\sum_{i=0}^n w_i x_i,$$\n",
    "$$y = \\frac{1}{1 + e^{-\\lambda z}},$$\n",
    "\n",
    "$$\\frac{\\partial z}{\\partial w_i} = x_i,$$\n",
    "\n",
    "$$\\frac{\\partial y}{\\partial z} = y \\cdot (1 - y) \\cdot \\lambda.$$\n",
    "\n",
    "The final problem is how to determine the value of the expression $\\frac{\\partial E}{\\partial y}$. Initially, consider the situation where a given neuron is a component of the output layer of the neural network:\n",
    "\n",
    "<div style=\"text-align: center;\">\n",
    "    <img src=\"output_layer_error.png\" alt=\"Output layer error\" style=\"width: 50%;\">\n",
    "</div>\n",
    "\n",
    "It can then be deduced that for the sought expression and for pattern \\( k \\), the following holds:\n",
    "$$\n",
    "\\frac{\\partial E}{\\partial y} = (y - o).\n",
    "$$\n",
    "\n",
    "Furthermore, we assume that the neuron is located in one of the internal layers:\n",
    "\n",
    "<div style=\"text-align: center;\">\n",
    "    <img src=\"inner_layer_error.png\" alt=\"Inner layer error\" style=\"width: 50%;\">\n",
    "</div>\n",
    "\n",
    "Starting with the following index convention, let us try to determine which layer the sought expression belongs to. From there, the relationship is given by:\n",
    "\n",
    "$$\n",
    "\\frac{\\partial E}{\\partial y} = \\sum_{i=1}^m \\frac{\\partial E}{\\partial z^i} \\cdot \\frac{\\partial z^i}{\\partial y},\n",
    "$$\n",
    "\n",
    "where the sum is taken over all neurons of the layer immediately above the considered neuron. Based on the validity of:\n",
    "\n",
    "$$\n",
    "\\frac{\\partial z^i}{\\partial y} = w^i,\n",
    "$$\n",
    "\n",
    "the following substitution can be performed:\n",
    "\n",
    "$$\n",
    "\\frac{\\partial E}{\\partial y} = \\sum_{i} \\frac{\\partial E}{\\partial z^i} \\cdot w^i.\n",
    "$$\n",
    "\n",
    "The resulting relationship for the gradient computation after reintroducing all indexes takes this form:\n",
    "\n",
    "$$\n",
    "\\frac{\\partial E}{\\partial w_{ij}} = \\delta_{jk} \\cdot y_j \\cdot (1 - y_j) \\cdot \\lambda \\cdot x_{ij}.\n",
    "$$\n",
    "\n",
    "The difference $\\delta_{jk}$ between the actual and the desired response of neuron $j$ for pattern $k$ in higher or the same layer is defined as follows:\n",
    "\n",
    "$$\n",
    "\\delta_{jk} = (y_j - o_j)_k, \\quad \\delta_{jk} = \\sum_{i}^m \\delta^{ik} \\cdot y^i \\cdot (1 - y^i) \\cdot \\lambda \\cdot w^{ij},\n",
    "$$\n",
    "\n",
    "where the sum is carried out over all neurons of the higher or current layer. The expression is primarily necessary to first establish the error of neurons in higher layers, based on which the error of neurons in lower layers can be calculated.\n",
    "\n",
    "Such a network is called *homogeneous*, because we assumed that thresholds and steepness of neurons are the same. However, nothing prevents us from subjecting not only synaptic weights but also thresholds and the steepness of the sigmoid to adaptation. The activation dynamics are then expressed as follows:\n",
    "\n",
    "$$\n",
    "z = \\sum_{i=1}^n w_i x_i \\quad \\text{and} \\quad y = \\frac{1}{1 + e^{-\\lambda(z - \\theta)}}\n",
    "$$\n",
    "\n",
    "<div style=\"text-align: center;\">\n",
    "    <img src=\"activation_function.png\" alt=\"Activation function\" style=\"width: 50%;\">\n",
    "</div>\n",
    "\n",
    "In this way, a so-called *heterogeneous network* can be achieved, where each neuron can have its own activation dynamics. This capability, in most cases, enhances the network's ability to converge towards a learned state. The method that utilizes this capability is called *parametric backpropagation* (PAB). The basis of PAB involves defining the error function $E$ dependent not only on the vector of synaptic weights but also on the vector of sigmoid steepness and thresholds. Formally, therefore:\n",
    "\n",
    "$$\n",
    "E = E(w, \\lambda, \\theta).\n",
    "$$\n",
    "\n",
    "Adjustment of neuron steepness proceeds according to analogous rules as in the case of synaptic weights. In our case, it will be expressed as:\n",
    "\n",
    "$$\n",
    "\\Delta \\lambda_i = -\\xi \\frac{\\partial E}{\\partial \\lambda_i},\n",
    "$$\n",
    "\n",
    "$$\n",
    "\\Delta \\theta_i = -\\psi \\frac{\\partial E}{\\partial \\theta_i},\n",
    "$$\n",
    "\n",
    "where:\n",
    "- $\\xi{,} \\psi$: learning coefficients for steepness and threshold values,\n",
    "\n",
    "To determine the values of the derivatives for steepness or respective threshold values of the selected neuron, the following expressions are used:\n",
    "\n",
    "$$\n",
    "\\frac{\\partial E}{\\partial \\lambda} = \\frac{\\partial E}{\\partial y} \\cdot \\frac{dy}{d\\lambda}, \\quad \\text{where} \\quad \\frac{dy}{d\\lambda} = y \\cdot (1-y) \\cdot (z - \\theta),\n",
    "$$\n",
    "\n",
    "respectively\n",
    "\n",
    "$$\n",
    "\\frac{\\partial E}{\\partial \\theta} = \\frac{\\partial E}{\\partial y} \\cdot \\frac{dy}{d\\theta}, \\quad \\text{where} \\quad \\frac{dy}{d\\theta} = y \\cdot (1 - y) \\cdot (-\\lambda),\n",
    "$$\n",
    "\n",
    "and $\\frac{\\partial E}{\\partial y}$ is calculated in the same way as described in the previous text, depending on whether the neuron is in the outer or an inner layer.\n",
    "\n",
    "\n"
   ]
  },
  {
   "cell_type": "markdown",
   "id": "a3ab29c4",
   "metadata": {},
   "source": [
    "### Implemenation in Python"
   ]
  },
  {
   "cell_type": "markdown",
   "id": "6f11f1ea",
   "metadata": {},
   "source": [
    "**Import modules**"
   ]
  },
  {
   "cell_type": "code",
   "execution_count": 10,
   "id": "e3e0fd1c551b0884",
   "metadata": {
    "ExecuteTime": {
     "end_time": "2024-03-25T10:32:11.909027Z",
     "start_time": "2024-03-25T10:32:11.267719Z"
    },
    "collapsed": false
   },
   "outputs": [],
   "source": [
    "import numpy as np\n",
    "import pandas as pd\n",
    "from backpropagation import GenericBackPropagation, BackPropagation, ReLUBackPropagation, SoftmaxBackPropagation\n"
   ]
  },
  {
   "cell_type": "markdown",
   "id": "5dabdb0a8378bdbb",
   "metadata": {
    "collapsed": false
   },
   "source": [
    "**Create training set from diagnosis.xlsx**"
   ]
  },
  {
   "cell_type": "code",
   "execution_count": 11,
   "id": "a36b7f14ceba5415",
   "metadata": {
    "ExecuteTime": {
     "end_time": "2024-03-25T10:32:12.163168Z",
     "start_time": "2024-03-25T10:32:11.911262Z"
    },
    "collapsed": false
   },
   "outputs": [
    {
     "data": {
      "text/plain": [
       "[([0.0, 0.5, 0.5, 0.0, 0.0], [0.0, 0.0, 1.0]),\n",
       " ([1.0, 1.0, 1.0, 1.0, 0.0], [0.0, 1.0, 0.0]),\n",
       " ([0.5, 1.0, 0.0, 1.0, 1.0], [1.0, 0.0, 0.0]),\n",
       " ([0.0, 0.5, 0.0, 0.0, 0.0], [0.0, 0.0, 1.0]),\n",
       " ([1.0, 0.5, 1.0, 0.5, 0.0], [0.0, 1.0, 0.0]),\n",
       " ([1.0, 1.0, 0.0, 0.5, 0.5], [1.0, 0.0, 0.0])]"
      ]
     },
     "execution_count": 11,
     "metadata": {},
     "output_type": "execute_result"
    }
   ],
   "source": [
    "data = pd.read_excel('diagnosis.xlsx')\n",
    "data.head()\n",
    "training_set = []\n",
    "for index, row in data.iterrows():\n",
    "    features = [row['Fever'], row['Cough'], row['Headache'], row['Tiredness'], row['Night Sweat']]\n",
    "    result = [row['Pneumonia'], row['Flu'], row['Cold']]\n",
    "    training_set.append((features, result))\n",
    "    \n",
    "training_set"
   ]
  },
  {
   "cell_type": "markdown",
   "id": "39ac06481fdcfd80",
   "metadata": {
    "collapsed": false
   },
   "source": [
    "**Initialize and learn multilayered neural network**\n",
    "* training set is given by a list [([i11, i12 ... i1N],[o11 ... o1M]), ... ([ik1, ..., ikN],[ok1, ..., okM])]\n",
    "* topology [num_of_features, num_of_inner_neurons, num_of_inner_neurons, num_of_results]\n",
    "* learning rates [for_weights, for_biases, for_slopes]\n",
    "* number of leraning epochs\n",
    "\n",
    "In case of learning rates for biases and slopes equal 0 only weights based learning is executed"
   ]
  },
  {
   "cell_type": "code",
   "execution_count": 12,
   "id": "1af2e0b2d989c4c8",
   "metadata": {
    "ExecuteTime": {
     "end_time": "2024-03-25T10:32:12.824518Z",
     "start_time": "2024-03-25T10:32:12.164737Z"
    },
    "collapsed": false
   },
   "outputs": [
    {
     "name": "stdout",
     "output_type": "stream",
     "text": [
      "Input:  [0.0, 0.5, 0.5, 0.0, 0.0]  Output:  [0.01, 0.0, 0.99]\n",
      "Input:  [1.0, 1.0, 1.0, 1.0, 0.0]  Output:  [0.01, 0.99, 0.0]\n",
      "Input:  [0.5, 1.0, 0.0, 1.0, 1.0]  Output:  [0.99, 0.01, 0.01]\n",
      "Input:  [0.0, 0.5, 0.0, 0.0, 0.0]  Output:  [0.01, 0.0, 0.99]\n",
      "Input:  [1.0, 0.5, 1.0, 0.5, 0.0]  Output:  [0.01, 0.99, 0.0]\n",
      "Input:  [1.0, 1.0, 0.0, 0.5, 0.5]  Output:  [0.99, 0.01, 0.01]\n"
     ]
    }
   ],
   "source": [
    "bpnn = BackPropagation(training_set,[5, 5, 5, 3], [0.3, 0.3, 0.3], 1000)\n",
    "bpnn.backpropagation()\n",
    "for row in training_set:\n",
    "    net_input = row[0]\n",
    "    bpnn.feed_forward(net_input)\n",
    "    net_output = bpnn.output_activation.reshape([1,3])\n",
    "    print(\"Input: \", net_input, \" Output: \", net_output.flatten().tolist())\n",
    "\n",
    "\n"
   ]
  },
  {
   "cell_type": "markdown",
   "id": "07bffb89",
   "metadata": {},
   "source": [
    "**Draw the history of learning**"
   ]
  },
  {
   "cell_type": "code",
   "execution_count": 13,
   "id": "c32984f0",
   "metadata": {},
   "outputs": [
    {
     "data": {
      "image/png": "[encoded data removed]",
      "text/plain": [
       "<Figure size 1000x600 with 1 Axes>"
      ]
     },
     "metadata": {},
     "output_type": "display_data"
    }
   ],
   "source": [
    "import matplotlib.pyplot as plt\n",
    "\n",
    "plt.figure(figsize=(10, 6))\n",
    "plt.plot(bpnn.history)\n",
    "plt.xlabel('Epoch')\n",
    "plt.ylabel('Mean Squared Error')\n",
    "plt.title('History of training')\n",
    "plt.grid(True)\n",
    "plt.show()"
   ]
  },
  {
   "cell_type": "markdown",
   "id": "9010db8ca231b112",
   "metadata": {
    "collapsed": false
   },
   "source": [
    "### Usage of diagnosis app"
   ]
  },
  {
   "cell_type": "code",
   "execution_count": 14,
   "id": "b9ec3a3f541b8869",
   "metadata": {
    "ExecuteTime": {
     "end_time": "2024-03-25T10:32:12.888489Z",
     "start_time": "2024-03-25T10:32:12.825925Z"
    },
    "collapsed": false
   },
   "outputs": [
    {
     "name": "stdout",
     "output_type": "stream",
     "text": [
      "Input:  [0.0, 0.5, 0.0, 0.0, 0.0]  Output:  [0.01, 0.0, 0.99]\n",
      "Input:  [1.0, 1.0, 1.0, 1.0, 0.0]  Output:  [0.01, 0.99, 0.0]\n",
      "Input:  [0.5, 1.0, 0.0, 1.0, 1.0]  Output:  [0.99, 0.01, 0.01]\n",
      "Input:  [1.0, 0.5, 0.5, 0.5, 0.0]  Output:  [0.01, 0.99, 0.0]\n",
      "Input:  [0.0, 0.5, 0.0, 0.2, 0.0]  Output:  [0.01, 0.0, 0.99]\n"
     ]
    },
    {
     "data": {
      "text/html": [
       "<div>\n",
       "<style scoped>\n",
       "    .dataframe tbody tr th:only-of-type {\n",
       "        vertical-align: middle;\n",
       "    }\n",
       "\n",
       "    .dataframe tbody tr th {\n",
       "        vertical-align: top;\n",
       "    }\n",
       "\n",
       "    .dataframe thead th {\n",
       "        text-align: right;\n",
       "    }\n",
       "</style>\n",
       "<table border=\"1\" class=\"dataframe\">\n",
       "  <thead>\n",
       "    <tr style=\"text-align: right;\">\n",
       "      <th></th>\n",
       "      <th>Fever</th>\n",
       "      <th>Cough</th>\n",
       "      <th>Headache</th>\n",
       "      <th>Tiredness</th>\n",
       "      <th>Night Sweat</th>\n",
       "      <th>Pneumonia</th>\n",
       "      <th>Flu</th>\n",
       "      <th>Cold</th>\n",
       "    </tr>\n",
       "  </thead>\n",
       "  <tbody>\n",
       "    <tr>\n",
       "      <th>0</th>\n",
       "      <td>0.0</td>\n",
       "      <td>0.5</td>\n",
       "      <td>0.0</td>\n",
       "      <td>0.0</td>\n",
       "      <td>0.0</td>\n",
       "      <td>0.01</td>\n",
       "      <td>0.00</td>\n",
       "      <td>0.99</td>\n",
       "    </tr>\n",
       "    <tr>\n",
       "      <th>1</th>\n",
       "      <td>1.0</td>\n",
       "      <td>1.0</td>\n",
       "      <td>1.0</td>\n",
       "      <td>1.0</td>\n",
       "      <td>0.0</td>\n",
       "      <td>0.01</td>\n",
       "      <td>0.99</td>\n",
       "      <td>0.00</td>\n",
       "    </tr>\n",
       "    <tr>\n",
       "      <th>2</th>\n",
       "      <td>0.5</td>\n",
       "      <td>1.0</td>\n",
       "      <td>0.0</td>\n",
       "      <td>1.0</td>\n",
       "      <td>1.0</td>\n",
       "      <td>0.99</td>\n",
       "      <td>0.01</td>\n",
       "      <td>0.01</td>\n",
       "    </tr>\n",
       "    <tr>\n",
       "      <th>3</th>\n",
       "      <td>1.0</td>\n",
       "      <td>0.5</td>\n",
       "      <td>0.5</td>\n",
       "      <td>0.5</td>\n",
       "      <td>0.0</td>\n",
       "      <td>0.01</td>\n",
       "      <td>0.99</td>\n",
       "      <td>0.00</td>\n",
       "    </tr>\n",
       "    <tr>\n",
       "      <th>4</th>\n",
       "      <td>0.0</td>\n",
       "      <td>0.5</td>\n",
       "      <td>0.0</td>\n",
       "      <td>0.2</td>\n",
       "      <td>0.0</td>\n",
       "      <td>0.01</td>\n",
       "      <td>0.00</td>\n",
       "      <td>0.99</td>\n",
       "    </tr>\n",
       "  </tbody>\n",
       "</table>\n",
       "</div>"
      ],
      "text/plain": [
       "   Fever  Cough  Headache  Tiredness  Night Sweat  Pneumonia   Flu  Cold\n",
       "0    0.0    0.5       0.0        0.0          0.0       0.01  0.00  0.99\n",
       "1    1.0    1.0       1.0        1.0          0.0       0.01  0.99  0.00\n",
       "2    0.5    1.0       0.0        1.0          1.0       0.99  0.01  0.01\n",
       "3    1.0    0.5       0.5        0.5          0.0       0.01  0.99  0.00\n",
       "4    0.0    0.5       0.0        0.2          0.0       0.01  0.00  0.99"
      ]
     },
     "execution_count": 14,
     "metadata": {},
     "output_type": "execute_result"
    }
   ],
   "source": [
    "input_data = pd.read_excel('diagnosis_input.xlsx')\n",
    "input_data.head()\n",
    "input_set = []\n",
    "for index, row in input_data.iterrows():\n",
    "    features = [row['Fever'], row['Cough'], row['Headache'], row['Tiredness'], row['Night Sweat']]\n",
    "    input_set.append(features)\n",
    "\n",
    "output_set = []\n",
    "for net_input in input_set:\n",
    "    net_output = bpnn.run(net_input)\n",
    "    output_set.append(net_output)\n",
    "    print(\"Input: \", net_input, \" Output: \", net_output)\n",
    "# Create a DataFrame for the output data\n",
    "\n",
    "header = list(data.columns)\n",
    "output_data = pd.DataFrame(columns=header)\n",
    "\n",
    "for i in range(len(input_set)):\n",
    "    row = input_set[i] + output_set[i]\n",
    "    output_data.loc[i] = row\n",
    "\n",
    "output_data.to_excel('diagnosis_output.xlsx', index=False)\n",
    "output_data"
   ]
  },
  {
   "cell_type": "markdown",
   "id": "a9f913cacb1cb0d5",
   "metadata": {
    "ExecuteTime": {
     "end_time": "2024-03-08T10:16:55.300053Z",
     "start_time": "2024-03-08T10:16:55.298772Z"
    },
    "collapsed": false
   },
   "source": [
    "### Mean squared error for the training set"
   ]
  },
  {
   "cell_type": "code",
   "execution_count": 15,
   "id": "b2e42461",
   "metadata": {
    "ExecuteTime": {
     "end_time": "2024-03-25T10:32:12.898589Z",
     "start_time": "2024-03-25T10:32:12.891182Z"
    }
   },
   "outputs": [
    {
     "name": "stdout",
     "output_type": "stream",
     "text": [
      "Means squared error:  0.00023333333333333352\n"
     ]
    }
   ],
   "source": [
    "error = bpnn.calculate_mean_squared_error()\n",
    "print(\"Means squared error: \", error)"
   ]
  },
  {
   "cell_type": "markdown",
   "id": "81579dec",
   "metadata": {},
   "source": [
    "### Max error of the single output neuron for a training net"
   ]
  },
  {
   "cell_type": "code",
   "execution_count": 16,
   "id": "2e203f35",
   "metadata": {
    "ExecuteTime": {
     "end_time": "2024-03-25T10:32:12.904127Z",
     "start_time": "2024-03-25T10:32:12.900883Z"
    }
   },
   "outputs": [
    {
     "name": "stdout",
     "output_type": "stream",
     "text": [
      "Max error of the single output neuron:  0.010000000000000009\n"
     ]
    }
   ],
   "source": [
    "max_error = bpnn.calculate_max_error()\n",
    "print(\"Max error of the single output neuron: \", max_error)"
   ]
  },
  {
   "cell_type": "markdown",
   "id": "899f1dbf",
   "metadata": {},
   "source": [
    "## ReLU and SoftMax Activation Functions\n",
    "The Rectified Linear Unit (ReLU) is a type of activation function that has become very popular in the design of neural networks, particularly in the context of deep learning models. Here is a detailed breakdown of its definition and benefits:\n",
    "\n",
    "### Definition of ReLU\n",
    "\n",
    "The ReLU function is defined mathematically as follows:\n",
    "$$\n",
    "y = \\max(0, z)\n",
    "$$\n",
    " \n",
    "This means that for each input $z$, the ReLU function outputs zero if $z$ is less than zero, and it outputs the value $z$ itself if $z$ is greater than or equal to zero. Visually, the function looks like a half-line that starts at the origin (0,0) and rises linearly with a slope of 1 for all positive values of $z$, while remaining at 0 for all non-positive values.\n",
    "\n",
    "### Definition of SoftMax\n",
    "The SoftMax function is a popular activation function primarily used in the final layer of neural networks for classification tasks. The goal of this function is to convert a vector of z-scores (or logits) into a probability distribution, where each element of the output vector represents the probability that the input sample belongs to the corresponding class. Thus, SoftMax is very useful for multi-class classification.\n",
    "\n",
    "If we have a vector of logits $z$ of dimension $K$ , where $K$ is the number of classes, the SoftMax function is defined for the $i-th$ element of the output vector $\\sigma(z)$ as:\n",
    "\n",
    "$$\\sigma(z_i) = \\frac{e^{z_i}}{\\sum_{j=1}^K e^{z_j}}$$\n",
    "\n",
    "where:\n",
    "* $e$  is the base of natural logarithms,\n",
    "* $z_i$  is the $i-th$ element of the logits vector $z$,\n",
    "* the denominator  $\\sum_{j=1}^K e^{z_j}$ is the sum of exponentials of all elements of the logits vector, which ensures that all output values of SoftMax are normalized so that their sum equals 1.\n",
    "\n",
    "The error in the output layer of a neural network, which utilizes the SoftMax function for classification tasks, is typically determined using a loss function known as cross-entropy loss. This combination—SoftMax in the activation function and cross-entropy in the loss function—is very common in classification modeling because they effectively work together and enable the model to learn accurate and stable probability distributions of classes.\n",
    "\n",
    "### Definition of Cross-Entropy\n",
    "\n",
    "Cross-entropy measures the difference between two probability distributions—the predicted distribution from the model and the actual distribution given by the target labels. For classification tasks, where the model output is a vector of probabilities obtained via SoftMax, cross-entropy is calculated as follows:\n",
    "\n",
    "If we have $N$ samples and $C$ classes, with the model returning a probability vector $\\hat{y}_i$ for each sample and the actual classes represented as one-hot vectors $y_i$, the cross-entropy loss function for one sample is defined as:\n",
    "\n",
    "\n",
    "$$L_i = -\\sum_{c=1}^C y_{i,c} \\log(\\hat{y}_{i,c})$$\n",
    "\n",
    "\n",
    "where $y_{i,c}$ is 1 if sample $i$ is in class $c$ and 0 otherwise, and $\\hat{y}_{i,c}$ is the predicted probability that sample $i$ belongs to class $c$. For the entire dataset, the total loss is the average of the losses for all samples:\n",
    "\n",
    "\n",
    "$$L = -\\frac{1}{N} \\sum_{i=1}^N \\sum_{c=1}^C y_{i,c} \\log(\\hat{y}_{i,c})$$\n",
    "\n",
    "\n",
    "**Initialize and learn multilayered neural network**\n",
    "* topology [num_of_features, num_of_inner_neurons, num_of_inner_neurons, num_of_results]\n",
    "* learning rates [only_for_weights]\n",
    "* number of leraning epochs"
   ]
  },
  {
   "cell_type": "code",
   "execution_count": 17,
   "id": "07b1e67e",
   "metadata": {},
   "outputs": [
    {
     "name": "stdout",
     "output_type": "stream",
     "text": [
      "Input:  [0.0, 0.5, 0.5, 0.0, 0.0]  Output:  [0.0, 0.0, 1.0]\n",
      "Input:  [1.0, 1.0, 1.0, 1.0, 0.0]  Output:  [0.0, 1.0, 0.0]\n",
      "Input:  [0.5, 1.0, 0.0, 1.0, 1.0]  Output:  [1.0, 0.0, 0.0]\n",
      "Input:  [0.0, 0.5, 0.0, 0.0, 0.0]  Output:  [0.01, 0.0, 0.99]\n",
      "Input:  [1.0, 0.5, 1.0, 0.5, 0.0]  Output:  [0.0, 1.0, 0.0]\n",
      "Input:  [1.0, 1.0, 0.0, 0.5, 0.5]  Output:  [0.99, 0.0, 0.01]\n"
     ]
    }
   ],
   "source": [
    "relu_nn = SoftmaxBackPropagation(training_set,[5, 15, 15, 3], [0.01], 1000)\n",
    "relu_nn.backpropagation()\n",
    "for row in training_set:\n",
    "    net_input = row[0]\n",
    "    relu_nn.feed_forward(net_input)\n",
    "    net_output = relu_nn.output_activation.reshape([1,3])\n",
    "    print(\"Input: \", net_input, \" Output: \", net_output.flatten().tolist())\n",
    "\n"
   ]
  },
  {
   "cell_type": "markdown",
   "id": "3c65e991",
   "metadata": {},
   "source": [
    "**Draw the history of learning**"
   ]
  },
  {
   "cell_type": "code",
   "execution_count": 18,
   "id": "8f3e93f1",
   "metadata": {},
   "outputs": [
    {
     "data": {
      "image/png": "[encoded data removed]",
      "text/plain": [
       "<Figure size 1000x600 with 1 Axes>"
      ]
     },
     "metadata": {},
     "output_type": "display_data"
    }
   ],
   "source": [
    "plt.figure(figsize=(10, 6))\n",
    "plt.plot(relu_nn.history)\n",
    "plt.xlabel('Epoch')\n",
    "plt.ylabel('Cross Entropy Loss')\n",
    "plt.title('History of training')\n",
    "plt.grid(True)\n",
    "plt.show()"
   ]
  },
  {
   "cell_type": "markdown",
   "id": "53265286",
   "metadata": {},
   "source": []
  }
 ],
 "metadata": {
  "kernelspec": {
   "display_name": "Python 3 (ipykernel)",
   "language": "python",
   "name": "python3"
  },
  "language_info": {
   "codemirror_mode": {
    "name": "ipython",
    "version": 3
   },
   "file_extension": ".py",
   "mimetype": "text/x-python",
   "name": "python",
   "nbconvert_exporter": "python",
   "pygments_lexer": "ipython3",
   "version": "3.12.3"
  }
 },
 "nbformat": 4,
 "nbformat_minor": 5
}
