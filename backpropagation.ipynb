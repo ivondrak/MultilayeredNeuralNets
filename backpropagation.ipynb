{
 "cells": [
  {
   "cell_type": "markdown",
   "id": "ac18ed3dc32ba0a",
   "metadata": {
    "collapsed": false
   },
   "source": [
    "## Backpropagation multilayered Neural Network"
   ]
  },
  {
   "cell_type": "code",
   "outputs": [],
   "source": [
    "import numpy as np\n",
    "import pandas as pd\n",
    "from backpropagation import BackPropagation\n"
   ],
   "metadata": {
    "collapsed": false,
    "ExecuteTime": {
     "end_time": "2024-03-06T14:08:18.007200Z",
     "start_time": "2024-03-06T14:08:17.567018Z"
    }
   },
   "id": "e3e0fd1c551b0884",
   "execution_count": 1
  },
  {
   "cell_type": "markdown",
   "source": [
    "### Create training set from diagnosis.xlsx"
   ],
   "metadata": {
    "collapsed": false
   },
   "id": "5dabdb0a8378bdbb"
  },
  {
   "cell_type": "code",
   "outputs": [
    {
     "data": {
      "text/plain": "[([0.0, 0.5, 0.5, 0.0, 0.0], [0.0, 0.0, 1.0]),\n ([1.0, 1.0, 1.0, 1.0, 0.0], [0.0, 1.0, 0.0]),\n ([0.5, 1.0, 0.0, 1.0, 1.0], [1.0, 0.0, 0.0]),\n ([0.0, 0.5, 0.0, 0.0, 0.0], [0.0, 0.0, 1.0]),\n ([1.0, 0.5, 1.0, 0.5, 0.0], [0.0, 1.0, 0.0]),\n ([1.0, 1.0, 0.0, 0.5, 0.5], [1.0, 0.0, 0.0])]"
     },
     "execution_count": 2,
     "metadata": {},
     "output_type": "execute_result"
    }
   ],
   "source": [
    "data = pd.read_excel('diagnosis.xlsx')\n",
    "data.head()\n",
    "training_set = []\n",
    "for index, row in data.iterrows():\n",
    "    features = [row['Fever'], row['Cough'], row['Headache'], row['Tiredness'], row['Night Sweat']]\n",
    "    result = [row['Pneumonia'], row['Flu'], row['Cold']]\n",
    "    training_set.append((features, result))\n",
    "    \n",
    "training_set"
   ],
   "metadata": {
    "collapsed": false,
    "ExecuteTime": {
     "end_time": "2024-03-06T14:08:18.093264Z",
     "start_time": "2024-03-06T14:08:18.008225Z"
    }
   },
   "id": "a36b7f14ceba5415",
   "execution_count": 2
  },
  {
   "cell_type": "markdown",
   "id": "39ac06481fdcfd80",
   "metadata": {
    "collapsed": false
   },
   "source": [
    "### Initialize and learn multilayered neural network"
   ]
  },
  {
   "cell_type": "code",
   "execution_count": 3,
   "id": "6385dfdf003fb4a1",
   "metadata": {
    "collapsed": false,
    "ExecuteTime": {
     "end_time": "2024-03-06T14:08:19.659092Z",
     "start_time": "2024-03-06T14:08:18.093915Z"
    }
   },
   "outputs": [
    {
     "name": "stdout",
     "output_type": "stream",
     "text": [
      "Input:  [0.0, 0.5, 0.5, 0.0, 0.0]  Output:  [0.0, 0.02, 0.97]\n",
      "Input:  [1.0, 1.0, 1.0, 1.0, 0.0]  Output:  [0.0, 0.99, 0.03]\n",
      "Input:  [0.5, 1.0, 0.0, 1.0, 1.0]  Output:  [1.0, 0.0, 0.0]\n",
      "Input:  [0.0, 0.5, 0.0, 0.0, 0.0]  Output:  [0.01, 0.0, 1.0]\n",
      "Input:  [1.0, 0.5, 1.0, 0.5, 0.0]  Output:  [0.0, 0.99, 0.03]\n",
      "Input:  [1.0, 1.0, 0.0, 0.5, 0.5]  Output:  [1.0, 0.0, 0.0]\n"
     ]
    }
   ],
   "source": [
    "bpnn = BackPropagation(training_set,[5, 5, 4, 3], 10000)\n",
    "bpnn.backpropagation()\n",
    "for row in training_set:\n",
    "    net_input = row[0]\n",
    "    bpnn.feed_forward(net_input)\n",
    "    net_output = bpnn.output_activation.reshape([1,3])\n",
    "    print(\"Input: \", net_input, \" Output: \", net_output.flatten().tolist())\n"
   ]
  },
  {
   "cell_type": "markdown",
   "source": [
    "### Usage of diagnosis app"
   ],
   "metadata": {
    "collapsed": false
   },
   "id": "7ecd27b966f4d73b"
  },
  {
   "cell_type": "markdown",
   "source": [],
   "metadata": {
    "collapsed": false
   },
   "id": "41cdbbace8ebe43e"
  },
  {
   "cell_type": "code",
   "outputs": [
    {
     "name": "stdout",
     "output_type": "stream",
     "text": [
      "Input:  [0.0, 0.5, 0.0, 0.0, 0.0]  Output:  [0.01, 0.0, 1.0]\n",
      "Input:  [1.0, 1.0, 1.0, 1.0, 0.0]  Output:  [0.0, 0.99, 0.03]\n",
      "Input:  [0.5, 1.0, 0.0, 1.0, 1.0]  Output:  [1.0, 0.0, 0.0]\n",
      "Input:  [1.0, 0.5, 0.5, 0.5, 0.0]  Output:  [0.02, 0.87, 0.2]\n",
      "Input:  [0.0, 0.5, 0.0, 0.2, 0.0]  Output:  [0.0, 0.0, 1.0]\n"
     ]
    },
    {
     "data": {
      "text/plain": "   Fever  Cough  Headache  Tiredness  Night Sweat  Pneumonia   Flu  Cold\n0    0.0    0.5       0.0        0.0          0.0       0.01  0.00  1.00\n1    1.0    1.0       1.0        1.0          0.0       0.00  0.99  0.03\n2    0.5    1.0       0.0        1.0          1.0       1.00  0.00  0.00\n3    1.0    0.5       0.5        0.5          0.0       0.02  0.87  0.20\n4    0.0    0.5       0.0        0.2          0.0       0.00  0.00  1.00",
      "text/html": "<div>\n<style scoped>\n    .dataframe tbody tr th:only-of-type {\n        vertical-align: middle;\n    }\n\n    .dataframe tbody tr th {\n        vertical-align: top;\n    }\n\n    .dataframe thead th {\n        text-align: right;\n    }\n</style>\n<table border=\"1\" class=\"dataframe\">\n  <thead>\n    <tr style=\"text-align: right;\">\n      <th></th>\n      <th>Fever</th>\n      <th>Cough</th>\n      <th>Headache</th>\n      <th>Tiredness</th>\n      <th>Night Sweat</th>\n      <th>Pneumonia</th>\n      <th>Flu</th>\n      <th>Cold</th>\n    </tr>\n  </thead>\n  <tbody>\n    <tr>\n      <th>0</th>\n      <td>0.0</td>\n      <td>0.5</td>\n      <td>0.0</td>\n      <td>0.0</td>\n      <td>0.0</td>\n      <td>0.01</td>\n      <td>0.00</td>\n      <td>1.00</td>\n    </tr>\n    <tr>\n      <th>1</th>\n      <td>1.0</td>\n      <td>1.0</td>\n      <td>1.0</td>\n      <td>1.0</td>\n      <td>0.0</td>\n      <td>0.00</td>\n      <td>0.99</td>\n      <td>0.03</td>\n    </tr>\n    <tr>\n      <th>2</th>\n      <td>0.5</td>\n      <td>1.0</td>\n      <td>0.0</td>\n      <td>1.0</td>\n      <td>1.0</td>\n      <td>1.00</td>\n      <td>0.00</td>\n      <td>0.00</td>\n    </tr>\n    <tr>\n      <th>3</th>\n      <td>1.0</td>\n      <td>0.5</td>\n      <td>0.5</td>\n      <td>0.5</td>\n      <td>0.0</td>\n      <td>0.02</td>\n      <td>0.87</td>\n      <td>0.20</td>\n    </tr>\n    <tr>\n      <th>4</th>\n      <td>0.0</td>\n      <td>0.5</td>\n      <td>0.0</td>\n      <td>0.2</td>\n      <td>0.0</td>\n      <td>0.00</td>\n      <td>0.00</td>\n      <td>1.00</td>\n    </tr>\n  </tbody>\n</table>\n</div>"
     },
     "execution_count": 4,
     "metadata": {},
     "output_type": "execute_result"
    }
   ],
   "source": [
    "input_data = pd.read_excel('diagnosis_input.xlsx')\n",
    "input_data.head()\n",
    "input_set = []\n",
    "for index, row in input_data.iterrows():\n",
    "    features = [row['Fever'], row['Cough'], row['Headache'], row['Tiredness'], row['Night Sweat']]\n",
    "    input_set.append(features)\n",
    "\n",
    "output_set = []\n",
    "for net_input in input_set:\n",
    "    net_output = bpnn.run(net_input)\n",
    "    output_set.append(net_output)\n",
    "    print(\"Input: \", net_input, \" Output: \", net_output)\n",
    "# Create a DataFrame for the output data\n",
    "\n",
    "header = list(data.columns)\n",
    "output_data = pd.DataFrame(columns=header)\n",
    "\n",
    "for i in range(len(input_set)):\n",
    "    row = input_set[i] + output_set[i]\n",
    "    output_data.loc[i] = row\n",
    "\n",
    "output_data.to_excel('bp_diagnosis_output.xlsx', index=False)\n",
    "output_data"
   ],
   "metadata": {
    "collapsed": false,
    "ExecuteTime": {
     "end_time": "2024-03-06T14:08:19.680924Z",
     "start_time": "2024-03-06T14:08:19.659822Z"
    }
   },
   "id": "483f974b619817b0",
   "execution_count": 4
  },
  {
   "cell_type": "code",
   "outputs": [
    {
     "data": {
      "text/plain": "[array([[0.],\n        [0.],\n        [0.],\n        [0.],\n        [0.]]),\n array([[0.],\n        [0.],\n        [0.],\n        [0.]]),\n array([[0.],\n        [0.],\n        [0.]])]"
     },
     "execution_count": 5,
     "metadata": {},
     "output_type": "execute_result"
    }
   ],
   "source": [
    "bpnn = BackPropagation(training_set,[5, 5, 4, 3], 1000)\n",
    "bpnn.deltas_biases"
   ],
   "metadata": {
    "collapsed": false,
    "ExecuteTime": {
     "end_time": "2024-03-06T14:08:19.684493Z",
     "start_time": "2024-03-06T14:08:19.682120Z"
    }
   },
   "id": "39e7a2900b009929",
   "execution_count": 5
  },
  {
   "cell_type": "code",
   "outputs": [],
   "source": [],
   "metadata": {
    "collapsed": false,
    "ExecuteTime": {
     "end_time": "2024-03-06T14:08:19.686170Z",
     "start_time": "2024-03-06T14:08:19.684992Z"
    }
   },
   "id": "66448d61dd88cb65",
   "execution_count": 5
  }
 ],
 "metadata": {
  "kernelspec": {
   "display_name": "Python 3 (ipykernel)",
   "language": "python",
   "name": "python3"
  },
  "language_info": {
   "codemirror_mode": {
    "name": "ipython",
    "version": 3
   },
   "file_extension": ".py",
   "mimetype": "text/x-python",
   "name": "python",
   "nbconvert_exporter": "python",
   "pygments_lexer": "ipython3",
   "version": "3.12.0"
  }
 },
 "nbformat": 4,
 "nbformat_minor": 5
}
